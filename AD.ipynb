{
  "nbformat": 4,
  "nbformat_minor": 0,
  "metadata": {
    "colab": {
      "name": "AD.ipynb",
      "version": "0.3.2",
      "provenance": []
    },
    "kernelspec": {
      "name": "python3",
      "display_name": "Python 3"
    },
    "accelerator": "GPU"
  },
  "cells": [
    {
      "metadata": {
        "id": "ew02JQWsgiJA",
        "colab_type": "code",
        "outputId": "75cb9b81-6db1-49e7-f2f4-c3b72d0315b1",
        "colab": {
          "base_uri": "https://localhost:8080/",
          "height": 34
        }
      },
      "cell_type": "code",
      "source": [
        "import numpy as np\n",
        "import keras\n",
        "from keras import backend as K\n",
        "from keras.optimizers import Adam, SGD\n",
        "\n",
        "from keras.layers import Flatten, Dropout, BatchNormalization, Reshape, GlobalAveragePooling2D\n",
        "from keras.layers import Dense, Dropout, Input\n",
        "from keras.applications.mobilenet_v2 import MobileNetV2, preprocess_input\n",
        "\n",
        "from keras.models import Model\n",
        "from keras.callbacks import ReduceLROnPlateau, ModelCheckpoint, LearningRateScheduler\n",
        "\n",
        "from keras.preprocessing.image import ImageDataGenerator\n",
        "\n",
        "from sklearn.metrics import confusion_matrix\n",
        "import itertools\n",
        "import matplotlib.pyplot as plt\n",
        "import pandas as pd\n",
        "\n",
        "from keras.preprocessing import image\n",
        "\n",
        "from sklearn.model_selection import train_test_split\n",
        "\n",
        "import os\n",
        "import shutil\n",
        "\n",
        "import matplotlib.image as mpimg"
      ],
      "execution_count": 0,
      "outputs": [
        {
          "output_type": "stream",
          "text": [
            "Using TensorFlow backend.\n"
          ],
          "name": "stderr"
        }
      ]
    },
    {
      "metadata": {
        "id": "3bw_YL9vizMv",
        "colab_type": "code",
        "colab": {}
      },
      "cell_type": "code",
      "source": [
        "!unzip -q ad-2d.zip"
      ],
      "execution_count": 0,
      "outputs": []
    },
    {
      "metadata": {
        "id": "rl_nucgui3T3",
        "colab_type": "code",
        "colab": {}
      },
      "cell_type": "code",
      "source": [
        "!unzip -q cn-2d.zip"
      ],
      "execution_count": 0,
      "outputs": []
    },
    {
      "metadata": {
        "id": "kr4BSPKIiR3e",
        "colab_type": "code",
        "colab": {}
      },
      "cell_type": "code",
      "source": [
        "!mkdir training && mkdir validation"
      ],
      "execution_count": 0,
      "outputs": []
    },
    {
      "metadata": {
        "id": "yav48e7UnX7x",
        "colab_type": "code",
        "colab": {}
      },
      "cell_type": "code",
      "source": [
        "!mkdir training/ad && mkdir validation/ad"
      ],
      "execution_count": 0,
      "outputs": []
    },
    {
      "metadata": {
        "id": "OI-hW5AJnaLx",
        "colab_type": "code",
        "colab": {}
      },
      "cell_type": "code",
      "source": [
        "!mkdir training/cn && mkdir validation/cn"
      ],
      "execution_count": 0,
      "outputs": []
    },
    {
      "metadata": {
        "id": "HTtUJxWgkMyL",
        "colab_type": "code",
        "colab": {}
      },
      "cell_type": "code",
      "source": [
        "!mkdir ad && mkdir cn"
      ],
      "execution_count": 0,
      "outputs": []
    },
    {
      "metadata": {
        "id": "j3ybzskQiVK-",
        "colab_type": "code",
        "colab": {}
      },
      "cell_type": "code",
      "source": [
        "ad_main_folder = 'ad-2d'\n",
        "cn_main_folder = 'cn-2d'\n",
        "\n",
        "for ad_folder in os.listdir(ad_main_folder):\n",
        "  images_name_path = f'{ad_main_folder}/{ad_folder}'\n",
        "  images = os.listdir(images_name_path)\n",
        "  \n",
        "  for image_path in images:\n",
        "    image_url = f'{images_name_path}/{image_path}'\n",
        "    shutil.move(image_url, 'ad')\n",
        "    \n",
        "for cn_folder in os.listdir(cn_main_folder):\n",
        "  images_name_path = f'{cn_main_folder}/{cn_folder}'\n",
        "  images = os.listdir(images_name_path)\n",
        "  \n",
        "  for image_path in images:\n",
        "    image_url = f'{images_name_path}/{image_path}'\n",
        "    shutil.move(image_url, 'cn')"
      ],
      "execution_count": 0,
      "outputs": []
    },
    {
      "metadata": {
        "id": "fm-Vz_i5qWK4",
        "colab_type": "code",
        "colab": {}
      },
      "cell_type": "code",
      "source": [
        "class_size = len(os.listdir('ad'))\n",
        "validation_size = 0.20\n",
        "validation_class_size = int(class_size * 0.20)"
      ],
      "execution_count": 0,
      "outputs": []
    },
    {
      "metadata": {
        "id": "oVwFerh6ql7e",
        "colab_type": "code",
        "outputId": "8e121662-5c39-490d-c686-aafe90cada27",
        "colab": {
          "base_uri": "https://localhost:8080/",
          "height": 34
        }
      },
      "cell_type": "code",
      "source": [
        "class_size, validation_class_size"
      ],
      "execution_count": 0,
      "outputs": [
        {
          "output_type": "execute_result",
          "data": {
            "text/plain": [
              "(39753, 7950)"
            ]
          },
          "metadata": {
            "tags": []
          },
          "execution_count": 10
        }
      ]
    },
    {
      "metadata": {
        "id": "iDQC2S9KlOUA",
        "colab_type": "code",
        "colab": {}
      },
      "cell_type": "code",
      "source": [
        "training_ad_folder_name = \"training/ad\"\n",
        "training_cn_folder_name = \"training/cn\"\n",
        "\n",
        "validation_ad_folder_name = \"validation/ad\"\n",
        "validation_cn_folder_name = \"validation/cn\"\n",
        "\n",
        "ad_folder = os.listdir(\"ad\")\n",
        "cn_folder = os.listdir(\"cn\")\n",
        "\n",
        "for image_name in ad_folder[:validation_class_size]:\n",
        "  image_url = f'ad/{image_name}'\n",
        "  shutil.move(image_url, validation_ad_folder_name)\n",
        "  \n",
        "for image_name in ad_folder[validation_class_size:]:\n",
        "  image_url = f'ad/{image_name}'\n",
        "  shutil.move(image_url, training_ad_folder_name)\n",
        "  \n",
        "for image_name in cn_folder[:validation_class_size]:\n",
        "  image_url = f'cn/{image_name}'\n",
        "  shutil.move(image_url, validation_cn_folder_name)\n",
        "  \n",
        "for image_name in cn_folder[validation_class_size:]:\n",
        "  image_url = f'cn/{image_name}'\n",
        "  shutil.move(image_url, training_cn_folder_name)"
      ],
      "execution_count": 0,
      "outputs": []
    },
    {
      "metadata": {
        "id": "LTfXwrmSgivK",
        "colab_type": "code",
        "colab": {}
      },
      "cell_type": "code",
      "source": [
        "batch_size = 128\n",
        "img_size = 128\n",
        "input_img_size = (128, 128, 1)\n",
        "num_classes = 2"
      ],
      "execution_count": 0,
      "outputs": []
    },
    {
      "metadata": {
        "id": "AurXNhwTgu0y",
        "colab_type": "code",
        "outputId": "da800823-717b-4150-9de6-dbb99690e863",
        "colab": {
          "base_uri": "https://localhost:8080/",
          "height": 51
        }
      },
      "cell_type": "code",
      "source": [
        "train_generator = ImageDataGenerator(\n",
        "    preprocessing_function=preprocess_input,\n",
        "    rotation_range=20,\n",
        "    zoom_range=0.05,\n",
        "    width_shift_range=0.05,\n",
        "    height_shift_range=0.05,\n",
        "    shear_range=0.05,\n",
        "    horizontal_flip=True,\n",
        "    fill_mode=\"nearest\").flow_from_directory(\n",
        "    \"training\",\n",
        "    target_size=(img_size, img_size),\n",
        "    color_mode=\"grayscale\",\n",
        "\t  shuffle=True,\n",
        "    batch_size=batch_size)\n",
        "\n",
        "\n",
        "val_generator = ImageDataGenerator(\n",
        "    preprocessing_function=preprocess_input).flow_from_directory(\n",
        "    \"validation\",\n",
        "    target_size=(img_size, img_size),\n",
        "    color_mode=\"grayscale\",\n",
        "\t  shuffle=False,\n",
        "    batch_size=batch_size)"
      ],
      "execution_count": 0,
      "outputs": [
        {
          "output_type": "stream",
          "text": [
            "Found 63646 images belonging to 2 classes.\n",
            "Found 15900 images belonging to 2 classes.\n"
          ],
          "name": "stdout"
        }
      ]
    },
    {
      "metadata": {
        "id": "5X3glfOHtLGx",
        "colab_type": "code",
        "colab": {}
      },
      "cell_type": "code",
      "source": [
        "training_folder_size = 63646\n",
        "validation_folder_size = 15900"
      ],
      "execution_count": 0,
      "outputs": []
    },
    {
      "metadata": {
        "id": "bI13z4X8sL0H",
        "colab_type": "code",
        "colab": {}
      },
      "cell_type": "code",
      "source": [
        "train_steps = training_folder_size // batch_size\n",
        "val_steps = validation_folder_size // batch_size"
      ],
      "execution_count": 0,
      "outputs": []
    },
    {
      "metadata": {
        "id": "VmaTk1wdtP6A",
        "colab_type": "code",
        "outputId": "95a19c6b-cd87-4f88-f4d7-7eec294b1d0a",
        "colab": {
          "base_uri": "https://localhost:8080/",
          "height": 34
        }
      },
      "cell_type": "code",
      "source": [
        "train_steps, val_steps"
      ],
      "execution_count": 0,
      "outputs": [
        {
          "output_type": "execute_result",
          "data": {
            "text/plain": [
              "(497, 124)"
            ]
          },
          "metadata": {
            "tags": []
          },
          "execution_count": 16
        }
      ]
    },
    {
      "metadata": {
        "id": "S_SG8_11hwQg",
        "colab_type": "code",
        "colab": {}
      },
      "cell_type": "code",
      "source": [
        "def create_model():\n",
        "  input_tensor = Input(shape=input_img_size)\n",
        "  \n",
        "  mobile_model = MobileNetV2(\n",
        "       weights=None,\n",
        "       input_tensor=input_tensor,\n",
        "       input_shape=input_img_size,\n",
        "       alpha=1.5,\n",
        "       include_top=False)\n",
        "  \n",
        "  for layer in mobile_model.layers:\n",
        "    layer.trainable = True\n",
        "  \n",
        "  mobile_model_output = mobile_model.output\n",
        "  classification_layer = Flatten()(mobile_model_output)\n",
        "  classification_layer = Dense(256, activation='relu')(classification_layer)\n",
        "  classification_layer = Dropout(0.5)(classification_layer)\n",
        "  predictions = Dense(activation=\"softmax\", units=num_classes)(classification_layer)\n",
        "\n",
        "  model = Model(inputs=input_tensor, outputs=predictions)\n",
        "  \n",
        "  return model"
      ],
      "execution_count": 0,
      "outputs": []
    },
    {
      "metadata": {
        "id": "o0T4vG8Dh0gh",
        "colab_type": "code",
        "colab": {}
      },
      "cell_type": "code",
      "source": [
        "learning_rate = 3e-4\n",
        "epochs = 100"
      ],
      "execution_count": 0,
      "outputs": []
    },
    {
      "metadata": {
        "id": "AyMHf8RXh3PZ",
        "colab_type": "code",
        "colab": {}
      },
      "cell_type": "code",
      "source": [
        "def polynomial_decay(epoch):\n",
        "\tpower = 1.0\n",
        " \n",
        "\talpha = learning_rate * (1 - (epoch / float(epochs))) ** power\n",
        "\treturn alpha"
      ],
      "execution_count": 0,
      "outputs": []
    },
    {
      "metadata": {
        "id": "1-7BbIMyh512",
        "colab_type": "code",
        "outputId": "99daf66e-0d99-4458-e219-5be4f27a0862",
        "colab": {
          "base_uri": "https://localhost:8080/",
          "height": 88
        }
      },
      "cell_type": "code",
      "source": [
        "weights_name = \"epoch={epoch:02d}|accuracy={val_acc:.4f}.h5\"\n",
        "\n",
        "checkpoint = ModelCheckpoint(weights_name, monitor=\"val_acc\", verbose=1, save_best_only=True,\n",
        "                                 save_weights_only=True, mode=\"max\", period=1)\n",
        "\n",
        "lr_decay = LearningRateScheduler(polynomial_decay)\n",
        "\n",
        "optimizer = SGD(lr=learning_rate, momentum=0.9)"
      ],
      "execution_count": 0,
      "outputs": [
        {
          "output_type": "stream",
          "text": [
            "WARNING:tensorflow:From /usr/local/lib/python3.6/dist-packages/tensorflow/python/framework/op_def_library.py:263: colocate_with (from tensorflow.python.framework.ops) is deprecated and will be removed in a future version.\n",
            "Instructions for updating:\n",
            "Colocations handled automatically by placer.\n"
          ],
          "name": "stdout"
        }
      ]
    },
    {
      "metadata": {
        "id": "4pZEvWCBh7GV",
        "colab_type": "code",
        "outputId": "57753c61-3612-4b80-ca8d-546521d96ec3",
        "colab": {
          "base_uri": "https://localhost:8080/",
          "height": 88
        }
      },
      "cell_type": "code",
      "source": [
        "model = create_model()\n",
        "model.compile(loss='binary_crossentropy', optimizer=optimizer, metrics=['acc'])"
      ],
      "execution_count": 0,
      "outputs": [
        {
          "output_type": "stream",
          "text": [
            "WARNING:tensorflow:From /usr/local/lib/python3.6/dist-packages/keras/backend/tensorflow_backend.py:3445: calling dropout (from tensorflow.python.ops.nn_ops) with keep_prob is deprecated and will be removed in a future version.\n",
            "Instructions for updating:\n",
            "Please use `rate` instead of `keep_prob`. Rate should be set to `rate = 1 - keep_prob`.\n"
          ],
          "name": "stdout"
        }
      ]
    },
    {
      "metadata": {
        "id": "EF5n_4Wgh9vT",
        "colab_type": "code",
        "outputId": "7f0eb44d-d8c2-422c-9d3e-2938a0be5c59",
        "colab": {
          "base_uri": "https://localhost:8080/",
          "height": 6837
        }
      },
      "cell_type": "code",
      "source": [
        "trained_model = model.fit_generator(train_generator,\n",
        "                        epochs=epochs,\n",
        "                        steps_per_epoch=train_steps,\n",
        "                        callbacks=[checkpoint, lr_decay],\n",
        "                        validation_data=val_generator,\n",
        "                        validation_steps=val_steps,\n",
        "                        verbose=1)"
      ],
      "execution_count": 0,
      "outputs": [
        {
          "output_type": "stream",
          "text": [
            "Epoch 1/100\n",
            "497/497 [==============================] - 379s 762ms/step - loss: 0.6978 - acc: 0.5550 - val_loss: 0.7353 - val_acc: 0.5232\n",
            "\n",
            "Epoch 00001: val_acc improved from -inf to 0.52321, saving model to epoch=01|accuracy=0.5232.h5\n",
            "Epoch 2/100\n",
            "497/497 [==============================] - 362s 727ms/step - loss: 0.6696 - acc: 0.5923 - val_loss: 0.6950 - val_acc: 0.5642\n",
            "\n",
            "Epoch 00002: val_acc improved from 0.52321 to 0.56423, saving model to epoch=02|accuracy=0.5642.h5\n",
            "Epoch 3/100\n",
            "497/497 [==============================] - 361s 727ms/step - loss: 0.6555 - acc: 0.6136 - val_loss: 0.8413 - val_acc: 0.5605\n",
            "\n",
            "Epoch 00003: val_acc did not improve from 0.56423\n",
            "Epoch 4/100\n",
            "497/497 [==============================] - 362s 728ms/step - loss: 0.6301 - acc: 0.6454 - val_loss: 0.9799 - val_acc: 0.5241\n",
            "\n",
            "Epoch 00004: val_acc did not improve from 0.56423\n",
            "Epoch 5/100\n",
            "497/497 [==============================] - 361s 727ms/step - loss: 0.5921 - acc: 0.6802 - val_loss: 1.4098 - val_acc: 0.5183\n",
            "\n",
            "Epoch 00005: val_acc did not improve from 0.56423\n",
            "Epoch 6/100\n",
            "497/497 [==============================] - 361s 727ms/step - loss: 0.5458 - acc: 0.7202 - val_loss: 2.0940 - val_acc: 0.5049\n",
            "\n",
            "Epoch 00006: val_acc did not improve from 0.56423\n",
            "Epoch 7/100\n",
            "497/497 [==============================] - 361s 726ms/step - loss: 0.5086 - acc: 0.7483 - val_loss: 1.8575 - val_acc: 0.5258\n",
            "\n",
            "Epoch 00007: val_acc did not improve from 0.56423\n",
            "Epoch 8/100\n",
            "497/497 [==============================] - 361s 727ms/step - loss: 0.4793 - acc: 0.7675 - val_loss: 0.7893 - val_acc: 0.6673\n",
            "\n",
            "Epoch 00008: val_acc improved from 0.56423 to 0.66726, saving model to epoch=08|accuracy=0.6673.h5\n",
            "Epoch 9/100\n",
            "497/497 [==============================] - 361s 727ms/step - loss: 0.4574 - acc: 0.7799 - val_loss: 1.0281 - val_acc: 0.6069\n",
            "\n",
            "Epoch 00009: val_acc did not improve from 0.66726\n",
            "Epoch 10/100\n",
            "497/497 [==============================] - 362s 728ms/step - loss: 0.4381 - acc: 0.7916 - val_loss: 0.6562 - val_acc: 0.7019\n",
            "\n",
            "Epoch 00010: val_acc improved from 0.66726 to 0.70194, saving model to epoch=10|accuracy=0.7019.h5\n",
            "Epoch 11/100\n",
            "497/497 [==============================] - 362s 728ms/step - loss: 0.4173 - acc: 0.8040 - val_loss: 0.4724 - val_acc: 0.7628\n",
            "\n",
            "Epoch 00011: val_acc improved from 0.70194 to 0.76281, saving model to epoch=11|accuracy=0.7628.h5\n",
            "Epoch 12/100\n",
            "497/497 [==============================] - 362s 728ms/step - loss: 0.4015 - acc: 0.8125 - val_loss: 0.4822 - val_acc: 0.7780\n",
            "\n",
            "Epoch 00012: val_acc improved from 0.76281 to 0.77796, saving model to epoch=12|accuracy=0.7780.h5\n",
            "Epoch 13/100\n",
            "497/497 [==============================] - 361s 726ms/step - loss: 0.3884 - acc: 0.8216 - val_loss: 0.4634 - val_acc: 0.7833\n",
            "\n",
            "Epoch 00013: val_acc improved from 0.77796 to 0.78333, saving model to epoch=13|accuracy=0.7833.h5\n",
            "Epoch 14/100\n",
            "497/497 [==============================] - 361s 727ms/step - loss: 0.3764 - acc: 0.8279 - val_loss: 0.4501 - val_acc: 0.7936\n",
            "\n",
            "Epoch 00014: val_acc improved from 0.78333 to 0.79356, saving model to epoch=14|accuracy=0.7936.h5\n",
            "Epoch 15/100\n",
            "497/497 [==============================] - 362s 728ms/step - loss: 0.3610 - acc: 0.8367 - val_loss: 0.5120 - val_acc: 0.7701\n",
            "\n",
            "Epoch 00015: val_acc did not improve from 0.79356\n",
            "Epoch 16/100\n",
            "497/497 [==============================] - 361s 727ms/step - loss: 0.3473 - acc: 0.8441 - val_loss: 0.5692 - val_acc: 0.7466\n",
            "\n",
            "Epoch 00016: val_acc did not improve from 0.79356\n",
            "Epoch 17/100\n",
            "497/497 [==============================] - 361s 726ms/step - loss: 0.3368 - acc: 0.8507 - val_loss: 0.5114 - val_acc: 0.7617\n",
            "\n",
            "Epoch 00017: val_acc did not improve from 0.79356\n",
            "Epoch 18/100\n",
            "497/497 [==============================] - 361s 727ms/step - loss: 0.3268 - acc: 0.8547 - val_loss: 1.3895 - val_acc: 0.5994\n",
            "\n",
            "Epoch 00018: val_acc did not improve from 0.79356\n",
            "Epoch 19/100\n",
            "497/497 [==============================] - 362s 727ms/step - loss: 0.3176 - acc: 0.8595 - val_loss: 0.5545 - val_acc: 0.7685\n",
            "\n",
            "Epoch 00019: val_acc did not improve from 0.79356\n",
            "Epoch 20/100\n",
            "497/497 [==============================] - 362s 727ms/step - loss: 0.3099 - acc: 0.8642 - val_loss: 0.7880 - val_acc: 0.6862\n",
            "\n",
            "Epoch 00020: val_acc did not improve from 0.79356\n",
            "Epoch 21/100\n",
            "497/497 [==============================] - 361s 727ms/step - loss: 0.2970 - acc: 0.8711 - val_loss: 0.5413 - val_acc: 0.7844\n",
            "\n",
            "Epoch 00021: val_acc did not improve from 0.79356\n",
            "Epoch 22/100\n",
            "497/497 [==============================] - 361s 727ms/step - loss: 0.2876 - acc: 0.8744 - val_loss: 0.4192 - val_acc: 0.8324\n",
            "\n",
            "Epoch 00022: val_acc improved from 0.79356 to 0.83242, saving model to epoch=22|accuracy=0.8324.h5\n",
            "Epoch 23/100\n",
            "497/497 [==============================] - 362s 728ms/step - loss: 0.2808 - acc: 0.8787 - val_loss: 0.4071 - val_acc: 0.8458\n",
            "\n",
            "Epoch 00023: val_acc improved from 0.83242 to 0.84580, saving model to epoch=23|accuracy=0.8458.h5\n",
            "Epoch 24/100\n",
            "497/497 [==============================] - 361s 727ms/step - loss: 0.2708 - acc: 0.8839 - val_loss: 0.5032 - val_acc: 0.8106\n",
            "\n",
            "Epoch 00024: val_acc did not improve from 0.84580\n",
            "Epoch 25/100\n",
            "497/497 [==============================] - 361s 727ms/step - loss: 0.2605 - acc: 0.8891 - val_loss: 0.4464 - val_acc: 0.8152\n",
            "\n",
            "Epoch 00025: val_acc did not improve from 0.84580\n",
            "Epoch 26/100\n",
            "497/497 [==============================] - 362s 727ms/step - loss: 0.2568 - acc: 0.8917 - val_loss: 0.5079 - val_acc: 0.7923\n",
            "\n",
            "Epoch 00026: val_acc did not improve from 0.84580\n",
            "Epoch 27/100\n",
            "497/497 [==============================] - 362s 728ms/step - loss: 0.2472 - acc: 0.8954 - val_loss: 0.7418 - val_acc: 0.7664\n",
            "\n",
            "Epoch 00027: val_acc did not improve from 0.84580\n",
            "Epoch 28/100\n",
            "497/497 [==============================] - 362s 728ms/step - loss: 0.2389 - acc: 0.9008 - val_loss: 0.3982 - val_acc: 0.8553\n",
            "\n",
            "Epoch 00028: val_acc improved from 0.84580 to 0.85531, saving model to epoch=28|accuracy=0.8553.h5\n",
            "Epoch 29/100\n",
            "497/497 [==============================] - 362s 728ms/step - loss: 0.2344 - acc: 0.9017 - val_loss: 0.3369 - val_acc: 0.8528\n",
            "\n",
            "Epoch 00029: val_acc did not improve from 0.85531\n",
            "Epoch 30/100\n",
            "497/497 [==============================] - 361s 727ms/step - loss: 0.2264 - acc: 0.9048 - val_loss: 0.5347 - val_acc: 0.8180\n",
            "\n",
            "Epoch 00030: val_acc did not improve from 0.85531\n",
            "Epoch 31/100\n",
            "497/497 [==============================] - 362s 728ms/step - loss: 0.2225 - acc: 0.9073 - val_loss: 0.4526 - val_acc: 0.8274\n",
            "\n",
            "Epoch 00031: val_acc did not improve from 0.85531\n",
            "Epoch 32/100\n",
            "497/497 [==============================] - 362s 728ms/step - loss: 0.2118 - acc: 0.9116 - val_loss: 0.6333 - val_acc: 0.7889\n",
            "\n",
            "Epoch 00032: val_acc did not improve from 0.85531\n",
            "Epoch 33/100\n",
            "497/497 [==============================] - 362s 728ms/step - loss: 0.2095 - acc: 0.9134 - val_loss: 0.5352 - val_acc: 0.8209\n",
            "\n",
            "Epoch 00033: val_acc did not improve from 0.85531\n",
            "Epoch 34/100\n",
            "497/497 [==============================] - 361s 727ms/step - loss: 0.2027 - acc: 0.9159 - val_loss: 0.3209 - val_acc: 0.8748\n",
            "\n",
            "Epoch 00034: val_acc improved from 0.85531 to 0.87478, saving model to epoch=34|accuracy=0.8748.h5\n",
            "Epoch 35/100\n",
            "497/497 [==============================] - 362s 728ms/step - loss: 0.1975 - acc: 0.9184 - val_loss: 0.3555 - val_acc: 0.8608\n",
            "\n",
            "Epoch 00035: val_acc did not improve from 0.87478\n",
            "Epoch 36/100\n",
            "497/497 [==============================] - 362s 729ms/step - loss: 0.1915 - acc: 0.9208 - val_loss: 0.5846 - val_acc: 0.7953\n",
            "\n",
            "Epoch 00036: val_acc did not improve from 0.87478\n",
            "Epoch 37/100\n",
            "497/497 [==============================] - 363s 731ms/step - loss: 0.1843 - acc: 0.9251 - val_loss: 0.4799 - val_acc: 0.8329\n",
            "\n",
            "Epoch 00037: val_acc did not improve from 0.87478\n",
            "Epoch 38/100\n",
            "497/497 [==============================] - 365s 734ms/step - loss: 0.1826 - acc: 0.9245 - val_loss: 0.4720 - val_acc: 0.8160\n",
            "\n",
            "Epoch 00038: val_acc did not improve from 0.87478\n",
            "Epoch 39/100\n",
            "497/497 [==============================] - 364s 733ms/step - loss: 0.1744 - acc: 0.9295 - val_loss: 0.1537 - val_acc: 0.9376\n",
            "\n",
            "Epoch 00039: val_acc improved from 0.87478 to 0.93761, saving model to epoch=39|accuracy=0.9376.h5\n",
            "Epoch 40/100\n",
            "497/497 [==============================] - 365s 734ms/step - loss: 0.1737 - acc: 0.9298 - val_loss: 0.4728 - val_acc: 0.8303\n",
            "\n",
            "Epoch 00040: val_acc did not improve from 0.93761\n",
            "Epoch 41/100\n",
            "497/497 [==============================] - 364s 733ms/step - loss: 0.1672 - acc: 0.9319 - val_loss: 0.2461 - val_acc: 0.9031\n",
            "\n",
            "Epoch 00041: val_acc did not improve from 0.93761\n",
            "Epoch 42/100\n",
            "497/497 [==============================] - 364s 733ms/step - loss: 0.1608 - acc: 0.9357 - val_loss: 0.2135 - val_acc: 0.9168\n",
            "\n",
            "Epoch 00042: val_acc did not improve from 0.93761\n",
            "Epoch 43/100\n",
            "497/497 [==============================] - 364s 731ms/step - loss: 0.1597 - acc: 0.9351 - val_loss: 0.2781 - val_acc: 0.9014\n",
            "\n",
            "Epoch 00043: val_acc did not improve from 0.93761\n",
            "Epoch 44/100\n",
            "497/497 [==============================] - 364s 733ms/step - loss: 0.1566 - acc: 0.9368 - val_loss: 0.2450 - val_acc: 0.9100\n",
            "\n",
            "Epoch 00044: val_acc did not improve from 0.93761\n",
            "Epoch 45/100\n",
            "497/497 [==============================] - 364s 732ms/step - loss: 0.1512 - acc: 0.9385 - val_loss: 0.3685 - val_acc: 0.8682\n",
            "\n",
            "Epoch 00045: val_acc did not improve from 0.93761\n",
            "Epoch 46/100\n",
            "497/497 [==============================] - 364s 731ms/step - loss: 0.1477 - acc: 0.9412 - val_loss: 0.2198 - val_acc: 0.9166\n",
            "\n",
            "Epoch 00046: val_acc did not improve from 0.93761\n",
            "Epoch 47/100\n",
            "497/497 [==============================] - 364s 733ms/step - loss: 0.1437 - acc: 0.9422 - val_loss: 0.6063 - val_acc: 0.8185\n",
            "\n",
            "Epoch 00047: val_acc did not improve from 0.93761\n",
            "Epoch 48/100\n",
            "497/497 [==============================] - 364s 732ms/step - loss: 0.1420 - acc: 0.9444 - val_loss: 0.2500 - val_acc: 0.9005\n",
            "\n",
            "Epoch 00048: val_acc did not improve from 0.93761\n",
            "Epoch 49/100\n",
            "497/497 [==============================] - 363s 731ms/step - loss: 0.1369 - acc: 0.9448 - val_loss: 0.5713 - val_acc: 0.8274\n",
            "\n",
            "Epoch 00049: val_acc did not improve from 0.93761\n",
            "Epoch 50/100\n",
            "497/497 [==============================] - 364s 732ms/step - loss: 0.1337 - acc: 0.9460 - val_loss: 0.2208 - val_acc: 0.9171\n",
            "\n",
            "Epoch 00050: val_acc did not improve from 0.93761\n",
            "Epoch 51/100\n",
            "497/497 [==============================] - 364s 731ms/step - loss: 0.1315 - acc: 0.9480 - val_loss: 0.2381 - val_acc: 0.9126\n",
            "\n",
            "Epoch 00051: val_acc did not improve from 0.93761\n",
            "Epoch 52/100\n",
            "497/497 [==============================] - 364s 731ms/step - loss: 0.1241 - acc: 0.9512 - val_loss: 0.1679 - val_acc: 0.9346\n",
            "\n",
            "Epoch 00052: val_acc did not improve from 0.93761\n",
            "Epoch 53/100\n",
            "497/497 [==============================] - 364s 732ms/step - loss: 0.1248 - acc: 0.9498 - val_loss: 0.4071 - val_acc: 0.8620\n",
            "\n",
            "Epoch 00053: val_acc did not improve from 0.93761\n",
            "Epoch 54/100\n",
            "497/497 [==============================] - 364s 731ms/step - loss: 0.1213 - acc: 0.9513 - val_loss: 0.2570 - val_acc: 0.9169\n",
            "\n",
            "Epoch 00054: val_acc did not improve from 0.93761\n",
            "Epoch 55/100\n",
            "497/497 [==============================] - 364s 732ms/step - loss: 0.1193 - acc: 0.9536 - val_loss: 0.2653 - val_acc: 0.9148\n",
            "\n",
            "Epoch 00055: val_acc did not improve from 0.93761\n",
            "Epoch 56/100\n",
            "497/497 [==============================] - 363s 731ms/step - loss: 0.1188 - acc: 0.9523 - val_loss: 0.4056 - val_acc: 0.8779\n",
            "\n",
            "Epoch 00056: val_acc did not improve from 0.93761\n",
            "Epoch 57/100\n",
            "497/497 [==============================] - 363s 731ms/step - loss: 0.1114 - acc: 0.9564 - val_loss: 0.3758 - val_acc: 0.8747\n",
            "\n",
            "Epoch 00057: val_acc did not improve from 0.93761\n",
            "Epoch 58/100\n",
            "497/497 [==============================] - 363s 731ms/step - loss: 0.1115 - acc: 0.9564 - val_loss: 0.1324 - val_acc: 0.9466\n",
            "\n",
            "Epoch 00058: val_acc improved from 0.93761 to 0.94655, saving model to epoch=58|accuracy=0.9466.h5\n",
            "Epoch 59/100\n",
            "497/497 [==============================] - 364s 732ms/step - loss: 0.1080 - acc: 0.9583 - val_loss: 0.2518 - val_acc: 0.9095\n",
            "\n",
            "Epoch 00059: val_acc did not improve from 0.94655\n",
            "Epoch 60/100\n",
            "497/497 [==============================] - 364s 732ms/step - loss: 0.1114 - acc: 0.9566 - val_loss: 0.2062 - val_acc: 0.9261\n",
            "\n",
            "Epoch 00060: val_acc did not improve from 0.94655\n",
            "Epoch 61/100\n",
            "497/497 [==============================] - 364s 733ms/step - loss: 0.1049 - acc: 0.9589 - val_loss: 0.8134 - val_acc: 0.8102\n",
            "\n",
            "Epoch 00061: val_acc did not improve from 0.94655\n",
            "Epoch 62/100\n",
            "497/497 [==============================] - 364s 732ms/step - loss: 0.1030 - acc: 0.9601 - val_loss: 0.2398 - val_acc: 0.9222\n",
            "\n",
            "Epoch 00062: val_acc did not improve from 0.94655\n",
            "Epoch 63/100\n",
            "497/497 [==============================] - 365s 734ms/step - loss: 0.0994 - acc: 0.9606 - val_loss: 0.5627 - val_acc: 0.8410\n",
            "\n",
            "Epoch 00063: val_acc did not improve from 0.94655\n",
            "Epoch 64/100\n",
            "497/497 [==============================] - 364s 733ms/step - loss: 0.0975 - acc: 0.9620 - val_loss: 0.1800 - val_acc: 0.9342\n",
            "\n",
            "Epoch 00064: val_acc did not improve from 0.94655\n",
            "Epoch 65/100\n",
            "497/497 [==============================] - 365s 734ms/step - loss: 0.0970 - acc: 0.9620 - val_loss: 0.5263 - val_acc: 0.8581\n",
            "\n",
            "Epoch 00065: val_acc did not improve from 0.94655\n",
            "Epoch 66/100\n",
            "497/497 [==============================] - 364s 733ms/step - loss: 0.0941 - acc: 0.9642 - val_loss: 0.3068 - val_acc: 0.9124\n",
            "\n",
            "Epoch 00066: val_acc did not improve from 0.94655\n",
            "Epoch 67/100\n",
            "497/497 [==============================] - 363s 731ms/step - loss: 0.0923 - acc: 0.9645 - val_loss: 0.3894 - val_acc: 0.8774\n",
            "\n",
            "Epoch 00067: val_acc did not improve from 0.94655\n",
            "Epoch 68/100\n",
            "497/497 [==============================] - 364s 732ms/step - loss: 0.0897 - acc: 0.9659 - val_loss: 0.1583 - val_acc: 0.9455\n",
            "\n",
            "Epoch 00068: val_acc did not improve from 0.94655\n",
            "Epoch 69/100\n",
            "497/497 [==============================] - 364s 733ms/step - loss: 0.0896 - acc: 0.9660 - val_loss: 0.0824 - val_acc: 0.9673\n",
            "\n",
            "Epoch 00069: val_acc improved from 0.94655 to 0.96728, saving model to epoch=69|accuracy=0.9673.h5\n",
            "Epoch 70/100\n",
            "497/497 [==============================] - 364s 733ms/step - loss: 0.0899 - acc: 0.9656 - val_loss: 0.3077 - val_acc: 0.9068\n",
            "\n",
            "Epoch 00070: val_acc did not improve from 0.96728\n",
            "Epoch 71/100\n",
            "497/497 [==============================] - 364s 732ms/step - loss: 0.0820 - acc: 0.9681 - val_loss: 0.2757 - val_acc: 0.9152\n",
            "\n",
            "Epoch 00071: val_acc did not improve from 0.96728\n",
            "Epoch 72/100\n",
            "497/497 [==============================] - 364s 733ms/step - loss: 0.0853 - acc: 0.9674 - val_loss: 0.2115 - val_acc: 0.9298\n",
            "\n",
            "Epoch 00072: val_acc did not improve from 0.96728\n",
            "Epoch 73/100\n",
            "497/497 [==============================] - 364s 733ms/step - loss: 0.0824 - acc: 0.9681 - val_loss: 0.3702 - val_acc: 0.8919\n",
            "\n",
            "Epoch 00073: val_acc did not improve from 0.96728\n",
            "Epoch 74/100\n",
            "497/497 [==============================] - 364s 733ms/step - loss: 0.0841 - acc: 0.9674 - val_loss: 0.2336 - val_acc: 0.9292\n",
            "\n",
            "Epoch 00074: val_acc did not improve from 0.96728\n",
            "Epoch 75/100\n",
            "497/497 [==============================] - 365s 734ms/step - loss: 0.0780 - acc: 0.9712 - val_loss: 0.2451 - val_acc: 0.9282\n",
            "\n",
            "Epoch 00075: val_acc did not improve from 0.96728\n",
            "Epoch 76/100\n",
            "497/497 [==============================] - 365s 734ms/step - loss: 0.0790 - acc: 0.9687 - val_loss: 0.3256 - val_acc: 0.9035\n",
            "\n",
            "Epoch 00076: val_acc did not improve from 0.96728\n",
            "Epoch 77/100\n",
            "497/497 [==============================] - 364s 733ms/step - loss: 0.0765 - acc: 0.9710 - val_loss: 0.3304 - val_acc: 0.9012\n",
            "\n",
            "Epoch 00077: val_acc did not improve from 0.96728\n",
            "Epoch 78/100\n",
            "497/497 [==============================] - 365s 734ms/step - loss: 0.0754 - acc: 0.9710 - val_loss: 0.0711 - val_acc: 0.9735\n",
            "\n",
            "Epoch 00078: val_acc improved from 0.96728 to 0.97350, saving model to epoch=78|accuracy=0.9735.h5\n",
            "Epoch 79/100\n",
            "497/497 [==============================] - 365s 734ms/step - loss: 0.0748 - acc: 0.9712 - val_loss: 0.0996 - val_acc: 0.9642\n",
            "\n",
            "Epoch 00079: val_acc did not improve from 0.97350\n",
            "Epoch 80/100\n",
            "497/497 [==============================] - 365s 734ms/step - loss: 0.0740 - acc: 0.9720 - val_loss: 0.1686 - val_acc: 0.9450\n",
            "\n",
            "Epoch 00080: val_acc did not improve from 0.97350\n",
            "Epoch 81/100\n",
            "497/497 [==============================] - 364s 732ms/step - loss: 0.0693 - acc: 0.9730 - val_loss: 0.0596 - val_acc: 0.9791\n",
            "\n",
            "Epoch 00081: val_acc improved from 0.97350 to 0.97908, saving model to epoch=81|accuracy=0.9791.h5\n",
            "Epoch 82/100\n",
            "497/497 [==============================] - 364s 733ms/step - loss: 0.0701 - acc: 0.9737 - val_loss: 0.0717 - val_acc: 0.9742\n",
            "\n",
            "Epoch 00082: val_acc did not improve from 0.97908\n",
            "Epoch 83/100\n",
            "497/497 [==============================] - 364s 733ms/step - loss: 0.0672 - acc: 0.9740 - val_loss: 0.2520 - val_acc: 0.9196\n",
            "\n",
            "Epoch 00083: val_acc did not improve from 0.97908\n",
            "Epoch 84/100\n",
            "497/497 [==============================] - 365s 734ms/step - loss: 0.0675 - acc: 0.9742 - val_loss: 0.5288 - val_acc: 0.8646\n",
            "\n",
            "Epoch 00084: val_acc did not improve from 0.97908\n",
            "Epoch 85/100\n",
            "497/497 [==============================] - 364s 733ms/step - loss: 0.0659 - acc: 0.9747 - val_loss: 0.1671 - val_acc: 0.9519\n",
            "\n",
            "Epoch 00085: val_acc did not improve from 0.97908\n",
            "Epoch 86/100\n",
            "497/497 [==============================] - 364s 733ms/step - loss: 0.0639 - acc: 0.9764 - val_loss: 0.2902 - val_acc: 0.9114\n",
            "\n",
            "Epoch 00086: val_acc did not improve from 0.97908\n",
            "Epoch 87/100\n",
            "497/497 [==============================] - 364s 733ms/step - loss: 0.0638 - acc: 0.9754 - val_loss: 0.0469 - val_acc: 0.9828\n",
            "\n",
            "Epoch 00087: val_acc improved from 0.97908 to 0.98275, saving model to epoch=87|accuracy=0.9828.h5\n",
            "Epoch 88/100\n",
            "497/497 [==============================] - 365s 734ms/step - loss: 0.0644 - acc: 0.9757 - val_loss: 0.0518 - val_acc: 0.9816\n",
            "\n",
            "Epoch 00088: val_acc did not improve from 0.98275\n",
            "Epoch 89/100\n",
            "497/497 [==============================] - 364s 733ms/step - loss: 0.0629 - acc: 0.9756 - val_loss: 0.2580 - val_acc: 0.9242\n",
            "\n",
            "Epoch 00089: val_acc did not improve from 0.98275\n",
            "Epoch 90/100\n",
            "497/497 [==============================] - 364s 733ms/step - loss: 0.0609 - acc: 0.9771 - val_loss: 0.0642 - val_acc: 0.9762\n",
            "\n",
            "Epoch 00090: val_acc did not improve from 0.98275\n",
            "Epoch 91/100\n",
            "497/497 [==============================] - 364s 733ms/step - loss: 0.0600 - acc: 0.9774 - val_loss: 0.1473 - val_acc: 0.9547\n",
            "\n",
            "Epoch 00091: val_acc did not improve from 0.98275\n",
            "Epoch 92/100\n",
            "497/497 [==============================] - 365s 734ms/step - loss: 0.0590 - acc: 0.9776 - val_loss: 0.0640 - val_acc: 0.9772\n",
            "\n",
            "Epoch 00092: val_acc did not improve from 0.98275\n",
            "Epoch 93/100\n",
            "497/497 [==============================] - 365s 734ms/step - loss: 0.0591 - acc: 0.9772 - val_loss: 0.0374 - val_acc: 0.9861\n",
            "\n",
            "Epoch 00093: val_acc improved from 0.98275 to 0.98611, saving model to epoch=93|accuracy=0.9861.h5\n",
            "Epoch 94/100\n",
            "497/497 [==============================] - 364s 733ms/step - loss: 0.0599 - acc: 0.9774 - val_loss: 0.2813 - val_acc: 0.9162\n",
            "\n",
            "Epoch 00094: val_acc did not improve from 0.98611\n",
            "Epoch 95/100\n",
            "497/497 [==============================] - 364s 733ms/step - loss: 0.0565 - acc: 0.9784 - val_loss: 0.0402 - val_acc: 0.9849\n",
            "\n",
            "Epoch 00095: val_acc did not improve from 0.98611\n",
            "Epoch 96/100\n",
            "497/497 [==============================] - 364s 733ms/step - loss: 0.0563 - acc: 0.9786 - val_loss: 0.0482 - val_acc: 0.9818\n",
            "\n",
            "Epoch 00096: val_acc did not improve from 0.98611\n",
            "Epoch 97/100\n",
            "497/497 [==============================] - 365s 735ms/step - loss: 0.0562 - acc: 0.9786 - val_loss: 0.0383 - val_acc: 0.9859\n",
            "\n",
            "Epoch 00097: val_acc did not improve from 0.98611\n",
            "Epoch 98/100\n",
            "497/497 [==============================] - 363s 731ms/step - loss: 0.0543 - acc: 0.9796 - val_loss: 0.0594 - val_acc: 0.9790\n",
            "\n",
            "Epoch 00098: val_acc did not improve from 0.98611\n",
            "Epoch 99/100\n",
            "497/497 [==============================] - 365s 734ms/step - loss: 0.0553 - acc: 0.9794 - val_loss: 0.0468 - val_acc: 0.9838\n",
            "\n",
            "Epoch 00099: val_acc did not improve from 0.98611\n",
            "Epoch 100/100\n",
            "497/497 [==============================] - 365s 734ms/step - loss: 0.0549 - acc: 0.9796 - val_loss: 0.0437 - val_acc: 0.9852\n",
            "\n",
            "Epoch 00100: val_acc did not improve from 0.98611\n"
          ],
          "name": "stdout"
        }
      ]
    },
    {
      "metadata": {
        "id": "AkF-NU81h_d2",
        "colab_type": "code",
        "colab": {}
      },
      "cell_type": "code",
      "source": [
        "def plot_validation_training(metric, trained_model):\n",
        "  validation_metric = trained_model.history[f'val_{metric}']\n",
        "  training_metric = trained_model.history[metric]\n",
        "  epochs = range(len(training_metric))\n",
        "  plt.plot(epochs, training_metric, 'b', label=f'Training {metric}')\n",
        "  plt.plot(epochs, validation_metric, 'r', label=f'Validation {metric}')\n",
        "  plt.ylim(bottom=0)\n",
        "  plt.xlabel('Epochs ', fontsize=16)\n",
        "  plt.ylabel(metric, fontsize=16)\n",
        "  loc = 'upper right' if metric == \"loss\" else 'lower right'\n",
        "  plt.legend(loc=loc)\n",
        "  plt.title(f'Training and validation {metric}', fontsize = 20)\n",
        "  plt.show()"
      ],
      "execution_count": 0,
      "outputs": []
    },
    {
      "metadata": {
        "id": "zV4xGJzNiCkX",
        "colab_type": "code",
        "outputId": "6be579a6-05f1-4ca1-bb0b-df9538433e4c",
        "colab": {
          "base_uri": "https://localhost:8080/",
          "height": 923
        }
      },
      "cell_type": "code",
      "source": [
        "plot_validation_training(\"loss\", trained_model)"
      ],
      "execution_count": 0,
      "outputs": [
        {
          "output_type": "display_data",
          "data": {
            "image/png": "[encoded data removed]",
            "text/plain": [
              "<Figure size 1440x1080 with 1 Axes>"
            ]
          },
          "metadata": {
            "tags": []
          }
        }
      ]
    },
    {
      "metadata": {
        "id": "c7jvHQowiEAo",
        "colab_type": "code",
        "outputId": "1abc7f5f-c529-4756-f3db-bfb03bc6d9f2",
        "colab": {
          "base_uri": "https://localhost:8080/",
          "height": 923
        }
      },
      "cell_type": "code",
      "source": [
        "plot_validation_training(\"acc\", trained_model)"
      ],
      "execution_count": 0,
      "outputs": [
        {
          "output_type": "display_data",
          "data": {
            "image/png": "[encoded data removed]",
            "text/plain": [
              "<Figure size 1440x1080 with 1 Axes>"
            ]
          },
          "metadata": {
            "tags": []
          }
        }
      ]
    },
    {
      "metadata": {
        "id": "2BE7z_9-iFh3",
        "colab_type": "code",
        "colab": {}
      },
      "cell_type": "code",
      "source": [
        "def plot_confusion_matrix(cm, classes,\n",
        "                          normalize=False,\n",
        "                          title='Confusion matrix',\n",
        "                          cmap=plt.cm.Blues):\n",
        "    \"\"\"\n",
        "    This function prints and plots the confusion matrix.\n",
        "    Normalization can be applied by setting `normalize=True`.\n",
        "    \"\"\"\n",
        "    if normalize:\n",
        "        cm = cm.astype('float') / cm.sum(axis=1)[:, np.newaxis]\n",
        "        print(\"Normalized confusion matrix\")\n",
        "    else:\n",
        "        print('Confusion matrix, without normalization')\n",
        "\n",
        "    plt.imshow(cm, interpolation='nearest', cmap=cmap)\n",
        "    plt.title(title)\n",
        "    plt.colorbar()\n",
        "    tick_marks = np.arange(len(classes))\n",
        "    plt.xticks(tick_marks, classes, rotation=45)\n",
        "    plt.yticks(tick_marks, classes)\n",
        "\n",
        "    fmt = '.2f' if normalize else 'd'\n",
        "    thresh = cm.max() / 2.\n",
        "    for i, j in itertools.product(range(cm.shape[0]), range(cm.shape[1])):\n",
        "        plt.text(j, i, format(cm[i, j], fmt),\n",
        "                 horizontalalignment=\"center\",\n",
        "                 color=\"white\" if cm[i, j] > thresh else \"black\")\n",
        "\n",
        "    plt.ylabel('True label')\n",
        "    plt.xlabel('Predicted label')\n",
        "    plt.tight_layout()"
      ],
      "execution_count": 0,
      "outputs": []
    },
    {
      "metadata": {
        "id": "gmUWqdhpiHRb",
        "colab_type": "code",
        "colab": {}
      },
      "cell_type": "code",
      "source": [
        "model.load_weights(\"epoch=93_accuracy=0.9861.h5\")"
      ],
      "execution_count": 0,
      "outputs": []
    },
    {
      "metadata": {
        "id": "-3KwWyR_iIi8",
        "colab_type": "code",
        "colab": {}
      },
      "cell_type": "code",
      "source": [
        "val_generator.reset()"
      ],
      "execution_count": 0,
      "outputs": []
    },
    {
      "metadata": {
        "id": "NVIPsTMKiKi-",
        "colab_type": "code",
        "outputId": "95987d7c-2769-4362-cd2a-1cccc5eef5b9",
        "colab": {
          "base_uri": "https://localhost:8080/",
          "height": 34
        }
      },
      "cell_type": "code",
      "source": [
        "classes_predicted = model.predict_generator(val_generator, steps=val_steps, verbose=1)"
      ],
      "execution_count": 0,
      "outputs": [
        {
          "output_type": "stream",
          "text": [
            "124/124 [==============================] - 30s 238ms/step\n"
          ],
          "name": "stdout"
        }
      ]
    },
    {
      "metadata": {
        "id": "JJWTcPM0iM3M",
        "colab_type": "code",
        "outputId": "66acb5a7-9e2c-4377-8b58-a9fa89134f96",
        "colab": {
          "base_uri": "https://localhost:8080/",
          "height": 34
        }
      },
      "cell_type": "code",
      "source": [
        "len(classes_predicted)"
      ],
      "execution_count": 0,
      "outputs": [
        {
          "output_type": "execute_result",
          "data": {
            "text/plain": [
              "15872"
            ]
          },
          "metadata": {
            "tags": []
          },
          "execution_count": 28
        }
      ]
    },
    {
      "metadata": {
        "id": "xrFf2PmSuFWA",
        "colab_type": "code",
        "colab": {}
      },
      "cell_type": "code",
      "source": [
        "real_predicted_classes = np.argmax(classes_predicted, axis=1)"
      ],
      "execution_count": 0,
      "outputs": []
    },
    {
      "metadata": {
        "id": "FVwJ7ou0uHao",
        "colab_type": "code",
        "colab": {}
      },
      "cell_type": "code",
      "source": [
        "val_labels = val_generator.classes"
      ],
      "execution_count": 0,
      "outputs": []
    },
    {
      "metadata": {
        "id": "skICqLmcMvUc",
        "colab_type": "code",
        "outputId": "9c2b500e-90aa-4288-af16-5ae9126c0f84",
        "colab": {
          "base_uri": "https://localhost:8080/",
          "height": 34
        }
      },
      "cell_type": "code",
      "source": [
        "len(val_labels)"
      ],
      "execution_count": 0,
      "outputs": [
        {
          "output_type": "execute_result",
          "data": {
            "text/plain": [
              "15900"
            ]
          },
          "metadata": {
            "tags": []
          },
          "execution_count": 31
        }
      ]
    },
    {
      "metadata": {
        "id": "WMzMqzYRuMB4",
        "colab_type": "code",
        "colab": {}
      },
      "cell_type": "code",
      "source": [
        "val_labels = val_labels[:15872]"
      ],
      "execution_count": 0,
      "outputs": []
    },
    {
      "metadata": {
        "id": "4RFyimV3uQWp",
        "colab_type": "code",
        "outputId": "4ec7274a-b8d0-41d2-e4fc-891c72950926",
        "colab": {
          "base_uri": "https://localhost:8080/",
          "height": 34
        }
      },
      "cell_type": "code",
      "source": [
        "len(val_labels), len(real_predicted_classes)"
      ],
      "execution_count": 0,
      "outputs": [
        {
          "output_type": "execute_result",
          "data": {
            "text/plain": [
              "(15872, 15872)"
            ]
          },
          "metadata": {
            "tags": []
          },
          "execution_count": 33
        }
      ]
    },
    {
      "metadata": {
        "id": "Igy4J3mYuTsr",
        "colab_type": "code",
        "outputId": "dec7f3bf-6f88-4529-aa0b-871af444a0cb",
        "colab": {
          "base_uri": "https://localhost:8080/",
          "height": 34
        }
      },
      "cell_type": "code",
      "source": [
        "val_generator.class_indices"
      ],
      "execution_count": 0,
      "outputs": [
        {
          "output_type": "execute_result",
          "data": {
            "text/plain": [
              "{'ad': 0, 'cn': 1}"
            ]
          },
          "metadata": {
            "tags": []
          },
          "execution_count": 34
        }
      ]
    },
    {
      "metadata": {
        "id": "9c_VbgYsuVTO",
        "colab_type": "code",
        "colab": {}
      },
      "cell_type": "code",
      "source": [
        "classes_names = [\"ad\", \"cn\"]"
      ],
      "execution_count": 0,
      "outputs": []
    },
    {
      "metadata": {
        "id": "Ry6-uvSQuaOx",
        "colab_type": "code",
        "outputId": "55b070df-3b35-4801-fa64-6a1c0ff61747",
        "colab": {
          "base_uri": "https://localhost:8080/",
          "height": 418
        }
      },
      "cell_type": "code",
      "source": [
        "cm = confusion_matrix(val_labels, real_predicted_classes, labels=range(num_classes))\n",
        "plot_confusion_matrix(cm, classes_names)"
      ],
      "execution_count": 0,
      "outputs": [
        {
          "output_type": "stream",
          "text": [
            "Confusion matrix, without normalization\n"
          ],
          "name": "stdout"
        },
        {
          "output_type": "display_data",
          "data": {
            "image/png": "[encoded data removed]",
            "text/plain": [
              "<Figure size 576x396 with 2 Axes>"
            ]
          },
          "metadata": {
            "tags": []
          }
        }
      ]
    },
    {
      "metadata": {
        "id": "QSiE7Fk4uc2M",
        "colab_type": "code",
        "outputId": "f7081d57-813b-4f13-e8ce-c579400c2748",
        "colab": {
          "base_uri": "https://localhost:8080/",
          "height": 51
        }
      },
      "cell_type": "code",
      "source": [
        "sensitivity = cm[0, 0] / (cm[0, 0] + cm[0, 1])\n",
        "print(f'sensitivity: {sensitivity}')\n",
        "\n",
        "specificity = cm[1, 1] / (cm[1, 1] + cm[1, 0])\n",
        "print(f'specificity: {specificity}')"
      ],
      "execution_count": 0,
      "outputs": [
        {
          "output_type": "stream",
          "text": [
            "sensitivity: 0.9891823899371069\n",
            "specificity: 0.9910376167634436\n"
          ],
          "name": "stdout"
        }
      ]
    },
    {
      "metadata": {
        "id": "ebQasrUbujf-",
        "colab_type": "code",
        "colab": {}
      },
      "cell_type": "code",
      "source": [
        "from sklearn.metrics import classification_report"
      ],
      "execution_count": 0,
      "outputs": []
    },
    {
      "metadata": {
        "id": "CN0RWq6mulNr",
        "colab_type": "code",
        "outputId": "11e8e49d-bff5-489a-cf7d-d1f149b46673",
        "colab": {
          "base_uri": "https://localhost:8080/",
          "height": 170
        }
      },
      "cell_type": "code",
      "source": [
        "report = classification_report(val_labels, real_predicted_classes, target_names=classes_names)\n",
        "print(report)"
      ],
      "execution_count": 0,
      "outputs": [
        {
          "output_type": "stream",
          "text": [
            "              precision    recall  f1-score   support\n",
            "\n",
            "          ad       0.99      0.99      0.99      7950\n",
            "          cn       0.99      0.99      0.99      7922\n",
            "\n",
            "   micro avg       0.99      0.99      0.99     15872\n",
            "   macro avg       0.99      0.99      0.99     15872\n",
            "weighted avg       0.99      0.99      0.99     15872\n",
            "\n"
          ],
          "name": "stdout"
        }
      ]
    },
    {
      "metadata": {
        "id": "LdOCvssVaUeI",
        "colab_type": "text"
      },
      "cell_type": "markdown",
      "source": [
        "## Save model"
      ]
    },
    {
      "metadata": {
        "id": "3ThiSfviMyeM",
        "colab_type": "code",
        "colab": {}
      },
      "cell_type": "code",
      "source": [
        "model_json = model.to_json()\n",
        "with open(\"ad.json\", \"w\") as json_file:\n",
        "    json_file.write(model_json)"
      ],
      "execution_count": 0,
      "outputs": []
    },
    {
      "metadata": {
        "id": "DzqGLEC-NQIL",
        "colab_type": "code",
        "colab": {}
      },
      "cell_type": "code",
      "source": [
        ""
      ],
      "execution_count": 0,
      "outputs": []
    }
  ]
}