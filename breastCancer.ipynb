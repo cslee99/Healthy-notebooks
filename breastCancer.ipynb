{
  "nbformat": 4,
  "nbformat_minor": 0,
  "metadata": {
    "colab": {
      "name": "breastCancer.ipynb",
      "version": "0.3.2",
      "provenance": [],
      "collapsed_sections": []
    },
    "kernelspec": {
      "name": "python3",
      "display_name": "Python 3"
    },
    "accelerator": "GPU"
  },
  "cells": [
    {
      "metadata": {
        "id": "_82qTr1dUFkj",
        "colab_type": "text"
      },
      "cell_type": "markdown",
      "source": [
        "## Kaggle"
      ]
    },
    {
      "metadata": {
        "id": "xnLjGVtMPAWP",
        "colab_type": "code",
        "colab": {}
      },
      "cell_type": "code",
      "source": [
        "!mkdir -p ~/.kaggle/"
      ],
      "execution_count": 0,
      "outputs": []
    },
    {
      "metadata": {
        "id": "iV7PDpbTWakY",
        "colab_type": "code",
        "colab": {}
      },
      "cell_type": "code",
      "source": [
        "mv kaggle.json ~/.kaggle/"
      ],
      "execution_count": 0,
      "outputs": []
    },
    {
      "metadata": {
        "id": "WdWMrkteEbU8",
        "colab_type": "code",
        "outputId": "e5d3c31c-9e29-4cd9-f053-763081f7b129",
        "colab": {
          "base_uri": "https://localhost:8080/",
          "height": 85
        }
      },
      "cell_type": "code",
      "source": [
        "!kaggle datasets download -d paultimothymooney/breast-histopathology-images"
      ],
      "execution_count": 3,
      "outputs": [
        {
          "output_type": "stream",
          "text": [
            "Warning: Your Kaggle API key is readable by other users on this system! To fix this, you can run 'chmod 600 /root/.kaggle/kaggle.json'\n",
            "Downloading breast-histopathology-images.zip to /content\n",
            "100% 1.49G/1.49G [00:35<00:00, 41.7MB/s]\n",
            "\n"
          ],
          "name": "stdout"
        }
      ]
    },
    {
      "metadata": {
        "id": "QYc5Ba-0VE95",
        "colab_type": "code",
        "colab": {}
      },
      "cell_type": "code",
      "source": [
        "!mkdir images"
      ],
      "execution_count": 0,
      "outputs": []
    },
    {
      "metadata": {
        "id": "EqwU2LbtVAoo",
        "colab_type": "code",
        "colab": {}
      },
      "cell_type": "code",
      "source": [
        "!unzip -q breast-histopathology-images.zip"
      ],
      "execution_count": 0,
      "outputs": []
    },
    {
      "metadata": {
        "id": "4Kr1Rs0pUcQ5",
        "colab_type": "code",
        "colab": {}
      },
      "cell_type": "code",
      "source": [
        "!unzip -q IDC_regular_ps50_idx5.zip -d images"
      ],
      "execution_count": 0,
      "outputs": []
    },
    {
      "metadata": {
        "id": "G5OMnAFBxWoT",
        "colab_type": "code",
        "outputId": "3f277b4f-7abc-4b09-c5c1-1b66ba19b47c",
        "colab": {
          "base_uri": "https://localhost:8080/",
          "height": 34
        }
      },
      "cell_type": "code",
      "source": [
        "import numpy as np\n",
        "import keras\n",
        "from keras import backend as K\n",
        "from keras.optimizers import Adam, SGD\n",
        "\n",
        "from keras.layers import Flatten, Dropout, BatchNormalization, Reshape, GlobalAveragePooling2D\n",
        "from keras.layers import Dense, Dropout, Input\n",
        "from keras.applications.mobilenet_v2 import MobileNetV2, preprocess_input\n",
        "\n",
        "from keras.models import Model\n",
        "from keras.callbacks import ReduceLROnPlateau, ModelCheckpoint, LearningRateScheduler\n",
        "\n",
        "from keras.preprocessing.image import ImageDataGenerator\n",
        "\n",
        "from sklearn.metrics import confusion_matrix\n",
        "import itertools\n",
        "import matplotlib.pyplot as plt\n",
        "import pandas as pd\n",
        "\n",
        "from keras.preprocessing import image\n",
        "\n",
        "from sklearn.model_selection import train_test_split\n",
        "from sklearn.utils.class_weight import compute_class_weight\n",
        "\n",
        "import matplotlib.image as mpimg\n",
        "\n",
        "import shutil\n",
        "import os"
      ],
      "execution_count": 7,
      "outputs": [
        {
          "output_type": "stream",
          "text": [
            "Using TensorFlow backend.\n"
          ],
          "name": "stderr"
        }
      ]
    },
    {
      "metadata": {
        "id": "QKRHzcuXVxGl",
        "colab_type": "code",
        "colab": {}
      },
      "cell_type": "code",
      "source": [
        "images_folder = os.listdir(\"images\")"
      ],
      "execution_count": 0,
      "outputs": []
    },
    {
      "metadata": {
        "id": "IjHCfq7kWzWP",
        "colab_type": "code",
        "outputId": "3466d0c0-da06-484a-e143-2467cc768b30",
        "colab": {
          "base_uri": "https://localhost:8080/",
          "height": 392
        }
      },
      "cell_type": "code",
      "source": [
        "first_folder = images_folder[0]\n",
        "benign_images_first_folder = f'images/{first_folder}/0'\n",
        "benign_images = os.listdir(benign_images_first_folder)[0:3]\n",
        "malignant_images_first_folder = f'images/{first_folder}/1'\n",
        "malignant_images = os.listdir(malignant_images_first_folder)[0:3]\n",
        "\n",
        "def plot_images(image_index, folder_name, image_name, title):\n",
        "  sp = figure.add_subplot(2, 3, image_index + 1)\n",
        "  sp.axis('Off')\n",
        "  image_path = f'{folder_name}/{image_name}'\n",
        "  image_loaded = img=mpimg.imread(image_path)\n",
        "  sp.set_title(title, fontsize=16)\n",
        "  plt.imshow(image_loaded, interpolation=None)\n",
        "\n",
        "figure = plt.figure(figsize=(12, 6))\n",
        "\n",
        "for image_index, image_name in enumerate(benign_images):\n",
        "  plot_images(image_index, benign_images_first_folder, image_name, \"Benign\")\n",
        "\n",
        "for image_index, image_name in enumerate(malignant_images):\n",
        "  plot_images(image_index + 3, malignant_images_first_folder, image_name, \"Malignant\")"
      ],
      "execution_count": 9,
      "outputs": [
        {
          "output_type": "display_data",
          "data": {
            "image/png": "[encoded data removed]",
            "text/plain": [
              "<Figure size 864x432 with 6 Axes>"
            ]
          },
          "metadata": {
            "tags": []
          }
        }
      ]
    },
    {
      "metadata": {
        "id": "lC8HnFAZYpMj",
        "colab_type": "code",
        "colab": {}
      },
      "cell_type": "code",
      "source": [
        "!mkdir training && mkdir validation"
      ],
      "execution_count": 0,
      "outputs": []
    },
    {
      "metadata": {
        "id": "w56vBtOqY4oH",
        "colab_type": "code",
        "colab": {}
      },
      "cell_type": "code",
      "source": [
        "!mkdir training/benign && mkdir training/malignant"
      ],
      "execution_count": 0,
      "outputs": []
    },
    {
      "metadata": {
        "id": "7BgZMhLuY-0s",
        "colab_type": "code",
        "colab": {}
      },
      "cell_type": "code",
      "source": [
        "!mkdir validation/benign && mkdir validation/malignant"
      ],
      "execution_count": 0,
      "outputs": []
    },
    {
      "metadata": {
        "id": "0rc3ePlDazMJ",
        "colab_type": "text"
      },
      "cell_type": "markdown",
      "source": [
        "## Move to training folder"
      ]
    },
    {
      "metadata": {
        "id": "th2Bp_Iue7l_",
        "colab_type": "code",
        "colab": {}
      },
      "cell_type": "code",
      "source": [
        "benign_images_training_folder_name = \"training/benign\"\n",
        "malignant_images_training_folder_name = \"training/malignant\""
      ],
      "execution_count": 0,
      "outputs": []
    },
    {
      "metadata": {
        "id": "rzekONYnFhcX",
        "colab_type": "code",
        "colab": {}
      },
      "cell_type": "code",
      "source": [
        "for folder in images_folder:\n",
        "  benign_folder = os.listdir(f'images/{folder}/0')\n",
        "  malignant_folder = os.listdir(f'images/{folder}/1')\n",
        "  \n",
        "  for benign_image in benign_folder:\n",
        "    image_url = f'images/{folder}/0/{benign_image}'\n",
        "    shutil.move(image_url, benign_images_training_folder_name)\n",
        "    \n",
        "  for malign_image in malignant_folder:\n",
        "    image_url = f'images/{folder}/1/{malign_image}'\n",
        "    shutil.move(image_url, malignant_images_training_folder_name)"
      ],
      "execution_count": 0,
      "outputs": []
    },
    {
      "metadata": {
        "id": "1sZidsEEb-_p",
        "colab_type": "code",
        "colab": {}
      },
      "cell_type": "code",
      "source": [
        "benign_images = len(os.listdir(benign_images_training_folder_name))\n",
        "malignant_images = len(os.listdir(malignant_images_training_folder_name))\n",
        "total_images =  benign_images + malignant_images"
      ],
      "execution_count": 0,
      "outputs": []
    },
    {
      "metadata": {
        "id": "6QE6JCrEcG-b",
        "colab_type": "code",
        "outputId": "3c85f15c-7cbc-499c-91ef-c5a96801cc34",
        "colab": {
          "base_uri": "https://localhost:8080/",
          "height": 68
        }
      },
      "cell_type": "code",
      "source": [
        "print(f'Total images: {total_images}')\n",
        "print(f'Benign images: {benign_images}')\n",
        "print(f'Malignant images: {malignant_images}')"
      ],
      "execution_count": 16,
      "outputs": [
        {
          "output_type": "stream",
          "text": [
            "Total images: 277524\n",
            "Benign images: 198738\n",
            "Malignant images: 78786\n"
          ],
          "name": "stdout"
        }
      ]
    },
    {
      "metadata": {
        "id": "Olja0AE8bh7V",
        "colab_type": "text"
      },
      "cell_type": "markdown",
      "source": [
        "## Move to Validation folder"
      ]
    },
    {
      "metadata": {
        "id": "aLi-5IXJbg5i",
        "colab_type": "code",
        "colab": {}
      },
      "cell_type": "code",
      "source": [
        "validation_size = 0.20\n",
        "\n",
        "benign_validation_folder_size = int(benign_images * 0.20)\n",
        "malignant_validation_folder_size = int(malignant_images * 0.20)"
      ],
      "execution_count": 0,
      "outputs": []
    },
    {
      "metadata": {
        "id": "oqdsQ370dfXp",
        "colab_type": "code",
        "outputId": "f743b96f-a8e6-4289-82e9-cd93afc6fa3e",
        "colab": {
          "base_uri": "https://localhost:8080/",
          "height": 51
        }
      },
      "cell_type": "code",
      "source": [
        "print(f'Benign validation size: {benign_validation_folder_size}')\n",
        "print(f'Malignant validation size: {malignant_validation_folder_size}')"
      ],
      "execution_count": 18,
      "outputs": [
        {
          "output_type": "stream",
          "text": [
            "Benign validation size: 39747\n",
            "Malignant validation size: 15757\n"
          ],
          "name": "stdout"
        }
      ]
    },
    {
      "metadata": {
        "id": "weifQ46VgkZe",
        "colab_type": "code",
        "colab": {}
      },
      "cell_type": "code",
      "source": [
        "benign_images_validation_folder_name = \"validation/benign\"\n",
        "malignant_images_validation_folder_name = \"validation/malignant\""
      ],
      "execution_count": 0,
      "outputs": []
    },
    {
      "metadata": {
        "id": "w4XQciDLdmpO",
        "colab_type": "code",
        "colab": {}
      },
      "cell_type": "code",
      "source": [
        "benign_images_training_folder = os.listdir(benign_images_training_folder_name)\n",
        "malignant_images_training_folder = os.listdir(malignant_images_training_folder_name)\n",
        "\n",
        "for image_name in benign_images_training_folder[:benign_validation_folder_size]:\n",
        "  image_url = f'{benign_images_training_folder_name}/{image_name}'\n",
        "  shutil.move(image_url, benign_images_validation_folder_name)\n",
        "  \n",
        "for image_name in malignant_images_training_folder[:malignant_validation_folder_size]:\n",
        "  image_url = f'{malignant_images_training_folder_name}/{image_name}'\n",
        "  shutil.move(image_url, malignant_images_validation_folder_name)"
      ],
      "execution_count": 0,
      "outputs": []
    },
    {
      "metadata": {
        "id": "qffWk7LSfo_X",
        "colab_type": "code",
        "colab": {}
      },
      "cell_type": "code",
      "source": [
        "training_folder_size = len(os.listdir(benign_images_training_folder_name)) + len(os.listdir(malignant_images_training_folder_name))\n",
        "validation_folder_size = len(os.listdir(benign_images_validation_folder_name)) + len(os.listdir(malignant_images_validation_folder_name))"
      ],
      "execution_count": 0,
      "outputs": []
    },
    {
      "metadata": {
        "id": "lEqYWskjgBnR",
        "colab_type": "code",
        "outputId": "25cddf44-d530-4e5e-e307-637634685a84",
        "colab": {
          "base_uri": "https://localhost:8080/",
          "height": 51
        }
      },
      "cell_type": "code",
      "source": [
        "print(f'Training folder size: {training_folder_size}')\n",
        "print(f'Validation folder size: {validation_folder_size}')"
      ],
      "execution_count": 22,
      "outputs": [
        {
          "output_type": "stream",
          "text": [
            "Training folder size: 222020\n",
            "Validation folder size: 55504\n"
          ],
          "name": "stdout"
        }
      ]
    },
    {
      "metadata": {
        "id": "aFu7w3UyhQsy",
        "colab_type": "text"
      },
      "cell_type": "markdown",
      "source": [
        "## Generators"
      ]
    },
    {
      "metadata": {
        "id": "LGSQbcPLhP4t",
        "colab_type": "code",
        "colab": {}
      },
      "cell_type": "code",
      "source": [
        "batch_size = 128\n",
        "img_size = 48\n",
        "input_img_size = (48, 48, 3)\n",
        "num_classes = 2"
      ],
      "execution_count": 0,
      "outputs": []
    },
    {
      "metadata": {
        "id": "rV6ZP-o-hMJj",
        "colab_type": "code",
        "outputId": "ec0e95cf-fc56-44dd-ca1d-dceaa8c916e8",
        "colab": {
          "base_uri": "https://localhost:8080/",
          "height": 51
        }
      },
      "cell_type": "code",
      "source": [
        "train_generator = ImageDataGenerator(\n",
        "    preprocessing_function=preprocess_input,\n",
        "    rotation_range=20,\n",
        "    zoom_range=0.05,\n",
        "    width_shift_range=0.05,\n",
        "    height_shift_range=0.05,\n",
        "    shear_range=0.05,\n",
        "    horizontal_flip=True,\n",
        "    fill_mode=\"nearest\").flow_from_directory(\n",
        "    \"training\",\n",
        "    target_size=(img_size, img_size),\n",
        "    color_mode=\"rgb\",\n",
        "\t  shuffle=True,\n",
        "    batch_size=batch_size)\n",
        "\n",
        "val_generator = ImageDataGenerator(\n",
        "    preprocessing_function=preprocess_input).flow_from_directory(\n",
        "    \"validation\",\n",
        "    target_size=(img_size, img_size),\n",
        "    color_mode=\"rgb\",\n",
        "\t  shuffle=False,\n",
        "    batch_size=batch_size)"
      ],
      "execution_count": 24,
      "outputs": [
        {
          "output_type": "stream",
          "text": [
            "Found 222020 images belonging to 2 classes.\n",
            "Found 55504 images belonging to 2 classes.\n"
          ],
          "name": "stdout"
        }
      ]
    },
    {
      "metadata": {
        "id": "OsgcwsSoiVQO",
        "colab_type": "code",
        "colab": {}
      },
      "cell_type": "code",
      "source": [
        "train_steps = int(training_folder_size // batch_size)\n",
        "val_steps = int(validation_folder_size // batch_size) "
      ],
      "execution_count": 0,
      "outputs": []
    },
    {
      "metadata": {
        "id": "ZhlHVPfeifqT",
        "colab_type": "code",
        "outputId": "0a79411f-dc84-4d14-e3ad-f50460b9a8ce",
        "colab": {
          "base_uri": "https://localhost:8080/",
          "height": 34
        }
      },
      "cell_type": "code",
      "source": [
        "train_steps, val_steps"
      ],
      "execution_count": 26,
      "outputs": [
        {
          "output_type": "execute_result",
          "data": {
            "text/plain": [
              "(1734, 433)"
            ]
          },
          "metadata": {
            "tags": []
          },
          "execution_count": 26
        }
      ]
    },
    {
      "metadata": {
        "id": "CkMX9t7Gil6t",
        "colab_type": "text"
      },
      "cell_type": "markdown",
      "source": [
        "## Model"
      ]
    },
    {
      "metadata": {
        "id": "D86hdx7rihgP",
        "colab_type": "code",
        "colab": {}
      },
      "cell_type": "code",
      "source": [
        "def create_model():\n",
        "  input_tensor = Input(shape=input_img_size)\n",
        "  \n",
        "  mobile_model = MobileNetV2(\n",
        "       weights=None,\n",
        "       input_tensor=input_tensor,\n",
        "       input_shape=input_img_size,\n",
        "       alpha=1.5,\n",
        "       include_top=False)\n",
        "  \n",
        "  for layer in mobile_model.layers:\n",
        "    layer.trainable = True\n",
        "  \n",
        "  mobile_model_output = mobile_model.output\n",
        "  classification_layer = Flatten()(mobile_model_output)\n",
        "  classification_layer = Dense(256, activation='relu')(classification_layer)\n",
        "  classification_layer = Dropout(0.5)(classification_layer)\n",
        "  predictions = Dense(activation=\"softmax\", units=num_classes)(classification_layer)\n",
        "\n",
        "  model = Model(inputs=input_tensor, outputs=predictions)\n",
        "  \n",
        "  return model"
      ],
      "execution_count": 0,
      "outputs": []
    },
    {
      "metadata": {
        "id": "umAwfSoyiyO4",
        "colab_type": "code",
        "colab": {}
      },
      "cell_type": "code",
      "source": [
        "learning_rate = 3e-4\n",
        "epochs = 10"
      ],
      "execution_count": 0,
      "outputs": []
    },
    {
      "metadata": {
        "id": "4S8u4nsWiztB",
        "colab_type": "code",
        "colab": {}
      },
      "cell_type": "code",
      "source": [
        "def polynomial_decay(epoch):\n",
        "\tpower = 1.0\n",
        " \n",
        "\talpha = learning_rate * (1 - (epoch / float(epochs))) ** power\n",
        "\treturn alpha"
      ],
      "execution_count": 0,
      "outputs": []
    },
    {
      "metadata": {
        "id": "bOq-b2WKi1F3",
        "colab_type": "code",
        "outputId": "7f6f05c0-bdb1-4fc0-a612-575ae08e3c50",
        "colab": {
          "base_uri": "https://localhost:8080/",
          "height": 88
        }
      },
      "cell_type": "code",
      "source": [
        "weights_name = \"epoch={epoch:02d}|accuracy={val_acc:.4f}.h5\"\n",
        "\n",
        "checkpoint = ModelCheckpoint(weights_name, monitor=\"val_acc\", verbose=1, save_best_only=True,\n",
        "                                 save_weights_only=True, mode=\"max\", period=1)\n",
        "\n",
        "lr_decay = LearningRateScheduler(polynomial_decay)\n",
        "\n",
        "optimizer = Adam(lr=learning_rate)"
      ],
      "execution_count": 30,
      "outputs": [
        {
          "output_type": "stream",
          "text": [
            "WARNING:tensorflow:From /usr/local/lib/python3.6/dist-packages/tensorflow/python/framework/op_def_library.py:263: colocate_with (from tensorflow.python.framework.ops) is deprecated and will be removed in a future version.\n",
            "Instructions for updating:\n",
            "Colocations handled automatically by placer.\n"
          ],
          "name": "stdout"
        }
      ]
    },
    {
      "metadata": {
        "id": "d8SF8Y9Li7sJ",
        "colab_type": "code",
        "outputId": "2e8cf209-0fef-461b-b609-791df1131c9a",
        "colab": {
          "base_uri": "https://localhost:8080/",
          "height": 88
        }
      },
      "cell_type": "code",
      "source": [
        "model = create_model()\n",
        "model.compile(loss='binary_crossentropy', optimizer=optimizer, metrics=['acc'])"
      ],
      "execution_count": 31,
      "outputs": [
        {
          "output_type": "stream",
          "text": [
            "WARNING:tensorflow:From /usr/local/lib/python3.6/dist-packages/keras/backend/tensorflow_backend.py:3445: calling dropout (from tensorflow.python.ops.nn_ops) with keep_prob is deprecated and will be removed in a future version.\n",
            "Instructions for updating:\n",
            "Please use `rate` instead of `keep_prob`. Rate should be set to `rate = 1 - keep_prob`.\n"
          ],
          "name": "stdout"
        }
      ]
    },
    {
      "metadata": {
        "id": "wT-RGl9QjI9C",
        "colab_type": "code",
        "outputId": "c9b165fc-6b20-447c-bcff-fd9dfd13a545",
        "colab": {
          "base_uri": "https://localhost:8080/",
          "height": 768
        }
      },
      "cell_type": "code",
      "source": [
        "trained_model = model.fit_generator(train_generator,\n",
        "                        epochs=epochs,\n",
        "                        steps_per_epoch=train_steps,\n",
        "                        callbacks=[checkpoint, lr_decay],\n",
        "                        validation_data=val_generator,\n",
        "                        validation_steps=val_steps,\n",
        "                        verbose=1)"
      ],
      "execution_count": 32,
      "outputs": [
        {
          "output_type": "stream",
          "text": [
            "WARNING:tensorflow:From /usr/local/lib/python3.6/dist-packages/tensorflow/python/ops/math_ops.py:3066: to_int32 (from tensorflow.python.ops.math_ops) is deprecated and will be removed in a future version.\n",
            "Instructions for updating:\n",
            "Use tf.cast instead.\n",
            "Epoch 1/10\n",
            "1734/1734 [==============================] - 1158s 668ms/step - loss: 0.3985 - acc: 0.8360 - val_loss: 1.4235 - val_acc: 0.8031\n",
            "\n",
            "Epoch 00001: val_acc improved from -inf to 0.80306, saving model to epoch=01|accuracy=0.8031.h5\n",
            "Epoch 2/10\n",
            "1734/1734 [==============================] - 1127s 650ms/step - loss: 0.3458 - acc: 0.8608 - val_loss: 1.3693 - val_acc: 0.8357\n",
            "\n",
            "Epoch 00002: val_acc improved from 0.80306 to 0.83565, saving model to epoch=02|accuracy=0.8357.h5\n",
            "Epoch 3/10\n",
            "1734/1734 [==============================] - 1133s 653ms/step - loss: 0.3301 - acc: 0.8677 - val_loss: 0.6561 - val_acc: 0.8547\n",
            "\n",
            "Epoch 00003: val_acc improved from 0.83565 to 0.85472, saving model to epoch=03|accuracy=0.8547.h5\n",
            "Epoch 4/10\n",
            "1734/1734 [==============================] - 1134s 654ms/step - loss: 0.3183 - acc: 0.8721 - val_loss: 0.6132 - val_acc: 0.8505\n",
            "\n",
            "Epoch 00004: val_acc did not improve from 0.85472\n",
            "Epoch 5/10\n",
            "1734/1734 [==============================] - 1132s 653ms/step - loss: 0.3076 - acc: 0.8754 - val_loss: 0.5840 - val_acc: 0.8509\n",
            "\n",
            "Epoch 00005: val_acc did not improve from 0.85472\n",
            "Epoch 6/10\n",
            "1734/1734 [==============================] - 1133s 653ms/step - loss: 0.2983 - acc: 0.8793 - val_loss: 0.5441 - val_acc: 0.8665\n",
            "\n",
            "Epoch 00006: val_acc improved from 0.85472 to 0.86651, saving model to epoch=06|accuracy=0.8665.h5\n",
            "Epoch 7/10\n",
            "1734/1734 [==============================] - 1135s 655ms/step - loss: 0.2904 - acc: 0.8822 - val_loss: 0.3436 - val_acc: 0.8770\n",
            "\n",
            "Epoch 00007: val_acc improved from 0.86651 to 0.87702, saving model to epoch=07|accuracy=0.8770.h5\n",
            "Epoch 8/10\n",
            "1734/1734 [==============================] - 1135s 654ms/step - loss: 0.2837 - acc: 0.8845 - val_loss: 0.2911 - val_acc: 0.8845\n",
            "\n",
            "Epoch 00008: val_acc improved from 0.87702 to 0.88446, saving model to epoch=08|accuracy=0.8845.h5\n",
            "Epoch 9/10\n",
            "1734/1734 [==============================] - 1131s 652ms/step - loss: 0.2772 - acc: 0.8879 - val_loss: 0.2774 - val_acc: 0.8835\n",
            "\n",
            "Epoch 00009: val_acc did not improve from 0.88446\n",
            "Epoch 10/10\n",
            "1734/1734 [==============================] - 1134s 654ms/step - loss: 0.2719 - acc: 0.8898 - val_loss: 0.2770 - val_acc: 0.8872\n",
            "\n",
            "Epoch 00010: val_acc improved from 0.88446 to 0.88724, saving model to epoch=10|accuracy=0.8872.h5\n"
          ],
          "name": "stdout"
        }
      ]
    },
    {
      "metadata": {
        "id": "1D2eDrvHjLVv",
        "colab_type": "code",
        "colab": {}
      },
      "cell_type": "code",
      "source": [
        "def plot_validation_training(metric, trained_model):\n",
        "  validation_metric = trained_model.history[f'val_{metric}']\n",
        "  training_metric = trained_model.history[metric]\n",
        "  epochs = range(len(training_metric))\n",
        "  plt.plot(epochs, training_metric, 'b', label=f'Training {metric}')\n",
        "  plt.plot(epochs, validation_metric, 'r', label=f'Validation {metric}')\n",
        "  plt.ylim(bottom=0)\n",
        "  plt.xlabel('Epochs ', fontsize=16)\n",
        "  plt.ylabel(metric, fontsize=16)\n",
        "  loc = 'upper right' if metric == \"loss\" else 'lower right'\n",
        "  plt.legend(loc=loc)\n",
        "  plt.title(f'Training and validation {metric}', fontsize = 20)\n",
        "  plt.show()"
      ],
      "execution_count": 0,
      "outputs": []
    },
    {
      "metadata": {
        "id": "-6vbh3hQjQZv",
        "colab_type": "code",
        "colab": {
          "base_uri": "https://localhost:8080/",
          "height": 387
        },
        "outputId": "af0d69d0-65bd-455b-ffaa-47eac64f5cfb"
      },
      "cell_type": "code",
      "source": [
        "plot_validation_training(\"loss\", trained_model)"
      ],
      "execution_count": 34,
      "outputs": [
        {
          "output_type": "display_data",
          "data": {
            "image/png": "[encoded data removed]",
            "text/plain": [
              "<Figure size 576x396 with 1 Axes>"
            ]
          },
          "metadata": {
            "tags": []
          }
        }
      ]
    },
    {
      "metadata": {
        "id": "Q36sAG4-jRwI",
        "colab_type": "code",
        "colab": {
          "base_uri": "https://localhost:8080/",
          "height": 387
        },
        "outputId": "a64b72ab-5f93-4ec4-bbef-b939a2496b22"
      },
      "cell_type": "code",
      "source": [
        "plot_validation_training(\"acc\", trained_model)"
      ],
      "execution_count": 35,
      "outputs": [
        {
          "output_type": "display_data",
          "data": {
            "image/png": "[encoded data removed]",
            "text/plain": [
              "<Figure size 576x396 with 1 Axes>"
            ]
          },
          "metadata": {
            "tags": []
          }
        }
      ]
    },
    {
      "metadata": {
        "id": "o7J1YvjGjTs7",
        "colab_type": "code",
        "colab": {}
      },
      "cell_type": "code",
      "source": [
        "def plot_confusion_matrix(cm, classes,\n",
        "                          normalize=False,\n",
        "                          title='Confusion matrix',\n",
        "                          cmap=plt.cm.Blues):\n",
        "    \"\"\"\n",
        "    This function prints and plots the confusion matrix.\n",
        "    Normalization can be applied by setting `normalize=True`.\n",
        "    \"\"\"\n",
        "    if normalize:\n",
        "        cm = cm.astype('float') / cm.sum(axis=1)[:, np.newaxis]\n",
        "        print(\"Normalized confusion matrix\")\n",
        "    else:\n",
        "        print('Confusion matrix, without normalization')\n",
        "\n",
        "    print(cm)\n",
        "\n",
        "    plt.imshow(cm, interpolation='nearest', cmap=cmap)\n",
        "    plt.title(title)\n",
        "    plt.colorbar()\n",
        "    tick_marks = np.arange(len(classes))\n",
        "    plt.xticks(tick_marks, classes, rotation=45)\n",
        "    plt.yticks(tick_marks, classes)\n",
        "\n",
        "    fmt = '.2f' if normalize else 'd'\n",
        "    thresh = cm.max() / 2.\n",
        "    for i, j in itertools.product(range(cm.shape[0]), range(cm.shape[1])):\n",
        "        plt.text(j, i, format(cm[i, j], fmt),\n",
        "                 horizontalalignment=\"center\",\n",
        "                 color=\"white\" if cm[i, j] > thresh else \"black\")\n",
        "\n",
        "    plt.ylabel('True label')\n",
        "    plt.xlabel('Predicted label')\n",
        "    plt.tight_layout()"
      ],
      "execution_count": 0,
      "outputs": []
    },
    {
      "metadata": {
        "id": "3iy9IjpijVUw",
        "colab_type": "code",
        "colab": {}
      },
      "cell_type": "code",
      "source": [
        "val_generator.reset()"
      ],
      "execution_count": 0,
      "outputs": []
    },
    {
      "metadata": {
        "id": "h2zPTlBOjXHF",
        "colab_type": "code",
        "colab": {
          "base_uri": "https://localhost:8080/",
          "height": 34
        },
        "outputId": "de332f59-3fc1-448a-e5d2-dba9f678d0a5"
      },
      "cell_type": "code",
      "source": [
        "classes_predicted = model.predict_generator(val_generator, steps=val_steps, verbose=1)"
      ],
      "execution_count": 38,
      "outputs": [
        {
          "output_type": "stream",
          "text": [
            "433/433 [==============================] - 81s 188ms/step\n"
          ],
          "name": "stdout"
        }
      ]
    },
    {
      "metadata": {
        "id": "LOGeMc1CjY3U",
        "colab_type": "code",
        "colab": {
          "base_uri": "https://localhost:8080/",
          "height": 34
        },
        "outputId": "c28c82e0-9728-4d62-a9e8-a13975e11aea"
      },
      "cell_type": "code",
      "source": [
        "len(classes_predicted)"
      ],
      "execution_count": 39,
      "outputs": [
        {
          "output_type": "execute_result",
          "data": {
            "text/plain": [
              "55424"
            ]
          },
          "metadata": {
            "tags": []
          },
          "execution_count": 39
        }
      ]
    },
    {
      "metadata": {
        "id": "JXkMfIxEjaz6",
        "colab_type": "code",
        "colab": {}
      },
      "cell_type": "code",
      "source": [
        "real_classes = np.argmax(classes_predicted, axis=1)"
      ],
      "execution_count": 0,
      "outputs": []
    },
    {
      "metadata": {
        "id": "2QVsGDXgjcM-",
        "colab_type": "code",
        "colab": {}
      },
      "cell_type": "code",
      "source": [
        "val_labels = val_generator.classes"
      ],
      "execution_count": 0,
      "outputs": []
    },
    {
      "metadata": {
        "id": "0svhad3D3SUs",
        "colab_type": "code",
        "colab": {
          "base_uri": "https://localhost:8080/",
          "height": 34
        },
        "outputId": "f3e4942d-87d2-4ae3-c116-f6dca9296bf8"
      },
      "cell_type": "code",
      "source": [
        "len(val_labels)"
      ],
      "execution_count": 42,
      "outputs": [
        {
          "output_type": "execute_result",
          "data": {
            "text/plain": [
              "55504"
            ]
          },
          "metadata": {
            "tags": []
          },
          "execution_count": 42
        }
      ]
    },
    {
      "metadata": {
        "id": "QoqePxngjds5",
        "colab_type": "code",
        "colab": {}
      },
      "cell_type": "code",
      "source": [
        "val_labels = val_labels[:55424]"
      ],
      "execution_count": 0,
      "outputs": []
    },
    {
      "metadata": {
        "id": "MMDBs85_jgQz",
        "colab_type": "code",
        "colab": {
          "base_uri": "https://localhost:8080/",
          "height": 34
        },
        "outputId": "f108ccb3-32df-4809-96e4-ba0bd02e7207"
      },
      "cell_type": "code",
      "source": [
        "len(val_labels), len(real_classes)"
      ],
      "execution_count": 44,
      "outputs": [
        {
          "output_type": "execute_result",
          "data": {
            "text/plain": [
              "(55424, 55424)"
            ]
          },
          "metadata": {
            "tags": []
          },
          "execution_count": 44
        }
      ]
    },
    {
      "metadata": {
        "id": "MLP3V48HjiL0",
        "colab_type": "code",
        "colab": {
          "base_uri": "https://localhost:8080/",
          "height": 34
        },
        "outputId": "644e890a-e762-4ad0-e35d-42d18182e278"
      },
      "cell_type": "code",
      "source": [
        "val_generator.class_indices"
      ],
      "execution_count": 45,
      "outputs": [
        {
          "output_type": "execute_result",
          "data": {
            "text/plain": [
              "{'benign': 0, 'malignant': 1}"
            ]
          },
          "metadata": {
            "tags": []
          },
          "execution_count": 45
        }
      ]
    },
    {
      "metadata": {
        "id": "-I0hPHU9jjyf",
        "colab_type": "code",
        "colab": {}
      },
      "cell_type": "code",
      "source": [
        "classes_names = [\"Benign\", \"Malignant\"]"
      ],
      "execution_count": 0,
      "outputs": []
    },
    {
      "metadata": {
        "id": "fVooRo5OjuIb",
        "colab_type": "code",
        "colab": {
          "base_uri": "https://localhost:8080/",
          "height": 452
        },
        "outputId": "3afd817e-8869-4b5f-80c6-555aa1b82441"
      },
      "cell_type": "code",
      "source": [
        "cm = confusion_matrix(val_labels, real_classes, labels=range(num_classes))\n",
        "plot_confusion_matrix(cm, classes_names)"
      ],
      "execution_count": 47,
      "outputs": [
        {
          "output_type": "stream",
          "text": [
            "Confusion matrix, without normalization\n",
            "[[37235  2512]\n",
            " [ 3746 11931]]\n"
          ],
          "name": "stdout"
        },
        {
          "output_type": "display_data",
          "data": {
            "image/png": "[encoded data removed]",
            "text/plain": [
              "<Figure size 576x396 with 2 Axes>"
            ]
          },
          "metadata": {
            "tags": []
          }
        }
      ]
    },
    {
      "metadata": {
        "id": "mcnY6BLSjyEX",
        "colab_type": "code",
        "colab": {
          "base_uri": "https://localhost:8080/",
          "height": 51
        },
        "outputId": "dc10a104-4303-4276-e9f0-3c4c6400dea9"
      },
      "cell_type": "code",
      "source": [
        "sensitivity = cm[0, 0] / (cm[0, 0] + cm[0, 1])\n",
        "print(f'sensitivity: {sensitivity}')\n",
        "\n",
        "specificity = cm[1, 1] / (cm[1, 1] + cm[1, 0])\n",
        "print(f'specifity: {specificity}')"
      ],
      "execution_count": 48,
      "outputs": [
        {
          "output_type": "stream",
          "text": [
            "sensitivity: 0.9368002616549677\n",
            "specifity: 0.7610512215347324\n"
          ],
          "name": "stdout"
        }
      ]
    },
    {
      "metadata": {
        "id": "_chKt-onjzs7",
        "colab_type": "code",
        "colab": {}
      },
      "cell_type": "code",
      "source": [
        "from sklearn.metrics import classification_report"
      ],
      "execution_count": 0,
      "outputs": []
    },
    {
      "metadata": {
        "id": "uUxmxH9Tj1aU",
        "colab_type": "code",
        "colab": {
          "base_uri": "https://localhost:8080/",
          "height": 170
        },
        "outputId": "36b2f6ed-59ed-4478-c264-388bead07de7"
      },
      "cell_type": "code",
      "source": [
        "report = classification_report(val_labels, real_classes, target_names=classes_names)\n",
        "print(report)"
      ],
      "execution_count": 50,
      "outputs": [
        {
          "output_type": "stream",
          "text": [
            "              precision    recall  f1-score   support\n",
            "\n",
            "      Benign       0.91      0.94      0.92     39747\n",
            "   Malignant       0.83      0.76      0.79     15677\n",
            "\n",
            "   micro avg       0.89      0.89      0.89     55424\n",
            "   macro avg       0.87      0.85      0.86     55424\n",
            "weighted avg       0.89      0.89      0.89     55424\n",
            "\n"
          ],
          "name": "stdout"
        }
      ]
    },
    {
      "metadata": {
        "id": "BR3kX7Tq3tep",
        "colab_type": "text"
      },
      "cell_type": "markdown",
      "source": [
        "## Save model"
      ]
    },
    {
      "metadata": {
        "id": "hBAOuV1p3kpY",
        "colab_type": "code",
        "colab": {}
      },
      "cell_type": "code",
      "source": [
        "model_json = model.to_json()\n",
        "with open(\"breast_cancer_model.json\", \"w\") as json_file:\n",
        "    json_file.write(model_json)"
      ],
      "execution_count": 0,
      "outputs": []
    },
    {
      "metadata": {
        "id": "sdTUl-GI3zmG",
        "colab_type": "code",
        "colab": {}
      },
      "cell_type": "code",
      "source": [
        ""
      ],
      "execution_count": 0,
      "outputs": []
    }
  ]
}